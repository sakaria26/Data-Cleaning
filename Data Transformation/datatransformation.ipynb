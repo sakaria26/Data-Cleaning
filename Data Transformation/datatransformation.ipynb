{
 "cells": [
  {
   "cell_type": "code",
   "execution_count": 1,
   "id": "097b4b8b",
   "metadata": {},
   "outputs": [],
   "source": [
    "import pandas as pd\n",
    "import numpy as np\n",
    "import matplotlib.pyplot as plt\n",
    "%matplotlib inline\n",
    "import seaborn as sns"
   ]
  },
  {
   "cell_type": "code",
   "execution_count": 2,
   "id": "16498ee6",
   "metadata": {},
   "outputs": [],
   "source": [
    "#change this on your side\n",
    "\n",
    "noisyData = pd.read_csv('C:/Users/snghi/Documents/NUST/Semester 4/Data Analytics/Homework/Data Cleaning/noisydata.csv', usecols=[0,6,7])"
   ]
  },
  {
   "cell_type": "code",
   "execution_count": null,
   "id": "239afa6f",
   "metadata": {},
   "outputs": [],
   "source": [
    "noisyData"
   ]
  },
  {
   "cell_type": "code",
   "execution_count": null,
   "id": "e4348218",
   "metadata": {},
   "outputs": [],
   "source": [
    "noisyDataString = noisyData.astype(\"string\")\n",
    "print(noisyDataString.dtypes)"
   ]
  },
  {
   "cell_type": "code",
   "execution_count": null,
   "id": "8203ec09",
   "metadata": {},
   "outputs": [],
   "source": [
    "noisyDataString[\"19L/R Percent of Departures\"]=noisyDataString[\"19L/R Percent of Departures\"].str.replace(\"%\",\"\")\n",
    "\n",
    "noisyDataString"
   ]
  },
  {
   "cell_type": "code",
   "execution_count": null,
   "id": "b9ffd8ee",
   "metadata": {},
   "outputs": [],
   "source": [
    "noisyDataInt = noisyDataString.astype(\"int\")\n",
    "print(noisyDataInt.dtypes)"
   ]
  },
  {
   "cell_type": "code",
   "execution_count": null,
   "id": "4d96ff15",
   "metadata": {},
   "outputs": [],
   "source": [
    "plt.plot(noisyDataInt[\"Year\"], noisyDataInt[\"19L/R\"], label = \"19L/R\", linestyle = \"--\")\n",
    "plt.plot(noisyDataInt[\"Year\"], noisyDataInt[\"19L/R Percent of Departures\"], label = \"19L/R Percent of Departures\", linestyle = \"-.\")\n",
    "plt.legend()\n",
    "plt.show()"
   ]
  },
  {
   "cell_type": "code",
   "execution_count": null,
   "id": "13e7361b",
   "metadata": {},
   "outputs": [],
   "source": [
    "noisyDataInt[\"Departure Deviation\"] = noisyData[\"19L/R\"].diff()\n",
    "\n",
    "sns.set(rc = {'figure.figsize':(11.7,8.27)})\n",
    "sns.lineplot(\n",
    "    x = \"Year\",\n",
    "    y = \"Departure Deviation\",\n",
    "    data = noisyDataInt\n",
    ")\n",
    "plt.show()"
   ]
  },
  {
   "cell_type": "code",
   "execution_count": null,
   "id": "130bbc3a",
   "metadata": {},
   "outputs": [],
   "source": [
    "noisyDataInt['Moving Average'] = noisyDataInt['Departure Deviation'].rolling(7).sum()\n",
    "noisyDataInt"
   ]
  },
  {
   "cell_type": "code",
   "execution_count": null,
   "id": "66517c96",
   "metadata": {},
   "outputs": [],
   "source": [
    "noisyDataInt.dropna()\n",
    "sns.set(rc = {'figure.figsize':(11.7,8.27)})\n",
    "sns.lineplot(\n",
    "    x = \"Year\",\n",
    "    y = \"Moving Average\",\n",
    "    data = noisyDataInt\n",
    ")\n",
    "plt.show()"
   ]
  }
 ],
 "metadata": {
  "kernelspec": {
   "display_name": "Python 3 (ipykernel)",
   "language": "python",
   "name": "python3"
  },
  "language_info": {
   "codemirror_mode": {
    "name": "ipython",
    "version": 3
   },
   "file_extension": ".py",
   "mimetype": "text/x-python",
   "name": "python",
   "nbconvert_exporter": "python",
   "pygments_lexer": "ipython3",
   "version": "3.9.12"
  }
 },
 "nbformat": 4,
 "nbformat_minor": 5
}
